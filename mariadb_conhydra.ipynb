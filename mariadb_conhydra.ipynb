{
 "cells": [
  {
   "cell_type": "markdown",
   "metadata": {},
   "source": [
    "# Pruebas de conexion con MariaDB"
   ]
  },
  {
   "cell_type": "markdown",
   "metadata": {},
   "source": [
    "## Librerias utilizadas"
   ]
  },
  {
   "cell_type": "code",
   "execution_count": 1,
   "metadata": {},
   "outputs": [],
   "source": [
    "import mariadb\n",
    "import sys\n",
    "from datetime import datetime\n",
    "import time"
   ]
  },
  {
   "cell_type": "code",
   "execution_count": 14,
   "metadata": {},
   "outputs": [
    {
     "data": {
      "text/plain": [
       "datetime.datetime(2022, 10, 21, 10, 33, 28, 402382)"
      ]
     },
     "execution_count": 14,
     "metadata": {},
     "output_type": "execute_result"
    }
   ],
   "source": [
    "datetime.now()"
   ]
  },
  {
   "cell_type": "markdown",
   "metadata": {},
   "source": [
    "## Conexión"
   ]
  },
  {
   "cell_type": "code",
   "execution_count": 66,
   "metadata": {},
   "outputs": [],
   "source": [
    "def conectar():\n",
    "    try:\n",
    "        conn = mariadb.connect(\n",
    "            user=\"elicogrp\",\n",
    "            password=\"Elico2022\",\n",
    "            host=\"datosdummies.crtpfqqqsc7r.us-east-1.rds.amazonaws.com\",\n",
    "            port=3306,\n",
    "            database=\"demo_conhydra\" #se habilita cuando se cree una base de datos, para conectarse con la instancia se deshabilita\n",
    "\n",
    "        )\n",
    "\n",
    "        return conn\n",
    "\n",
    "    except mariadb.Error as e:\n",
    "        print(f\"Error connecting to MariaDB Platform: {e}\")"
   ]
  },
  {
   "cell_type": "code",
   "execution_count": 138,
   "metadata": {},
   "outputs": [
    {
     "name": "stdout",
     "output_type": "stream",
     "text": [
      "True\n"
     ]
    }
   ],
   "source": [
    "conexion=conectar()\n",
    "if conexion:\n",
    "    print('True')\n",
    "else:\n",
    "    print('False')"
   ]
  },
  {
   "cell_type": "markdown",
   "metadata": {},
   "source": [
    "## Creación de cursor"
   ]
  },
  {
   "cell_type": "code",
   "execution_count": 139,
   "metadata": {},
   "outputs": [],
   "source": [
    "cur = conexion.cursor()"
   ]
  },
  {
   "cell_type": "markdown",
   "metadata": {},
   "source": [
    "## Inserción de un registro en la tabla demo_conhydra.ConhydraApp_timestamp"
   ]
  },
  {
   "cell_type": "code",
   "execution_count": 140,
   "metadata": {},
   "outputs": [],
   "source": [
    "row=tuple([datetime.now()])"
   ]
  },
  {
   "cell_type": "code",
   "execution_count": 141,
   "metadata": {},
   "outputs": [],
   "source": [
    "query=f'''INSERT INTO ConhydraApp_timestamp (timestamp) VALUES (?)'''"
   ]
  },
  {
   "cell_type": "code",
   "execution_count": 142,
   "metadata": {},
   "outputs": [],
   "source": [
    "cur.execute(query, row)"
   ]
  },
  {
   "cell_type": "code",
   "execution_count": 143,
   "metadata": {},
   "outputs": [],
   "source": [
    "conexion.commit()"
   ]
  },
  {
   "cell_type": "code",
   "execution_count": 144,
   "metadata": {},
   "outputs": [],
   "source": [
    "cur.execute('SELECT LAST_INSERT_ID();')"
   ]
  },
  {
   "cell_type": "code",
   "execution_count": 145,
   "metadata": {},
   "outputs": [
    {
     "data": {
      "text/plain": [
       "33"
      ]
     },
     "execution_count": 145,
     "metadata": {},
     "output_type": "execute_result"
    }
   ],
   "source": [
    "cur.fetchall()[0][0]"
   ]
  },
  {
   "cell_type": "markdown",
   "metadata": {},
   "source": [
    "## Cerrar conexion"
   ]
  },
  {
   "cell_type": "code",
   "execution_count": 146,
   "metadata": {},
   "outputs": [],
   "source": [
    "conexion.close()"
   ]
  },
  {
   "cell_type": "markdown",
   "metadata": {},
   "source": [
    "## Completo"
   ]
  },
  {
   "cell_type": "code",
   "execution_count": 154,
   "metadata": {},
   "outputs": [
    {
     "name": "stdout",
     "output_type": "stream",
     "text": [
      "(37,)\n"
     ]
    }
   ],
   "source": [
    "conexion=conectar()\n",
    "cur = conexion.cursor()\n",
    "row=tuple([datetime.now()])\n",
    "query=f'''INSERT INTO ConhydraApp_timestamp (timestamp) VALUES (?)'''\n",
    "cur.execute(query, row)\n",
    "conexion.commit()\n",
    "cur.execute('SELECT LAST_INSERT_ID();')\n",
    "id=cur.fetchall()[0]\n",
    "conexion.close()\n",
    "print(id)"
   ]
  },
  {
   "cell_type": "code",
   "execution_count": 153,
   "metadata": {},
   "outputs": [
    {
     "data": {
      "text/plain": [
       "(2, 3, 4, 5, 6)"
      ]
     },
     "execution_count": 153,
     "metadata": {},
     "output_type": "execute_result"
    }
   ],
   "source": [
    "(1,2,3,4,5,6)[1:]"
   ]
  },
  {
   "cell_type": "code",
   "execution_count": 165,
   "metadata": {},
   "outputs": [],
   "source": [
    "lista=list((1,2,3,4,5,6))"
   ]
  },
  {
   "cell_type": "code",
   "execution_count": 168,
   "metadata": {},
   "outputs": [
    {
     "data": {
      "text/plain": [
       "[1, 2, 3, 4, 5, 6, 7]"
      ]
     },
     "execution_count": 168,
     "metadata": {},
     "output_type": "execute_result"
    }
   ],
   "source": [
    "lista"
   ]
  },
  {
   "cell_type": "code",
   "execution_count": 169,
   "metadata": {},
   "outputs": [],
   "source": [
    "lista.append(7)"
   ]
  },
  {
   "cell_type": "code",
   "execution_count": 167,
   "metadata": {},
   "outputs": [],
   "source": [
    "a"
   ]
  },
  {
   "cell_type": "code",
   "execution_count": 151,
   "metadata": {},
   "outputs": [
    {
     "data": {
      "text/plain": [
       "(1,)"
      ]
     },
     "execution_count": 151,
     "metadata": {},
     "output_type": "execute_result"
    }
   ],
   "source": [
    "tuple([1])"
   ]
  },
  {
   "cell_type": "code",
   "execution_count": 170,
   "metadata": {},
   "outputs": [],
   "source": [
    "lista=[(1,2,3,4,5,6)]"
   ]
  },
  {
   "cell_type": "code",
   "execution_count": 171,
   "metadata": {},
   "outputs": [
    {
     "data": {
      "text/plain": [
       "[(1, 2, 3, 4, 5, 6)]"
      ]
     },
     "execution_count": 171,
     "metadata": {},
     "output_type": "execute_result"
    }
   ],
   "source": [
    "lista"
   ]
  },
  {
   "cell_type": "markdown",
   "metadata": {},
   "source": [
    "## Consulta en base de datos data"
   ]
  },
  {
   "cell_type": "code",
   "execution_count": 46,
   "metadata": {},
   "outputs": [
    {
     "name": "stdout",
     "output_type": "stream",
     "text": [
      "(5000,)\n",
      "(5000,)\n",
      "(3000,)\n",
      "(2000,)\n",
      "(13720,)\n"
     ]
    }
   ],
   "source": [
    "cur.execute(\"SELECT * FROM t1;\")\n",
    "for a in cur:\n",
    "    print(a)"
   ]
  },
  {
   "cell_type": "markdown",
   "metadata": {},
   "source": [
    "## Mostrar bases de datos en la instancia"
   ]
  },
  {
   "cell_type": "code",
   "execution_count": 21,
   "metadata": {},
   "outputs": [
    {
     "name": "stdout",
     "output_type": "stream",
     "text": [
      "data\n",
      "information_schema\n",
      "innodb\n",
      "mysql\n",
      "performance_schema\n",
      "sys\n"
     ]
    }
   ],
   "source": [
    "cur.execute('SHOW DATABASES')\n",
    "\n",
    "for i in cur:\n",
    "    print(i[0])"
   ]
  },
  {
   "cell_type": "markdown",
   "metadata": {},
   "source": [
    "## Mostrar tablas en la base de datos"
   ]
  },
  {
   "cell_type": "code",
   "execution_count": 43,
   "metadata": {},
   "outputs": [
    {
     "name": "stdout",
     "output_type": "stream",
     "text": [
      "t1\n",
      "t2\n"
     ]
    }
   ],
   "source": [
    "cur.execute('SHOW TABLES')\n",
    "\n",
    "for i in cur:\n",
    "    print(i[0])"
   ]
  },
  {
   "cell_type": "markdown",
   "metadata": {},
   "source": [
    "## Mostrar creación de tabla"
   ]
  },
  {
   "cell_type": "code",
   "execution_count": 44,
   "metadata": {},
   "outputs": [
    {
     "name": "stdout",
     "output_type": "stream",
     "text": [
      "('t2', 'CREATE TABLE `t2` (\\n  `timestamp` timestamp NOT NULL DEFAULT current_timestamp() ON UPDATE current_timestamp(),\\n  `d1` smallint(6) DEFAULT NULL,\\n  `d2` smallint(6) DEFAULT NULL,\\n  `d3` smallint(6) DEFAULT NULL,\\n  `d4` smallint(6) DEFAULT NULL,\\n  `d5` smallint(6) DEFAULT NULL,\\n  `d6` smallint(6) DEFAULT NULL,\\n  `d7` smallint(6) DEFAULT NULL,\\n  `d8` smallint(6) DEFAULT NULL,\\n  `d9` smallint(6) DEFAULT NULL,\\n  `d10` smallint(6) DEFAULT NULL\\n) ENGINE=InnoDB DEFAULT CHARSET=latin1')\n"
     ]
    }
   ],
   "source": [
    "cur.execute('SHOW CREATE TABLE t2')\n",
    "\n",
    "for i in cur:\n",
    "    print(i)"
   ]
  },
  {
   "cell_type": "markdown",
   "metadata": {},
   "source": [
    "## Creación de tabla: data->t2"
   ]
  },
  {
   "cell_type": "code",
   "execution_count": 39,
   "metadata": {},
   "outputs": [],
   "source": [
    "try:\n",
    "    conn = mariadb.connect(\n",
    "        user=\"elicogrp\",\n",
    "        password=\"Elico2022\",\n",
    "        host=\"datosdummies.crtpfqqqsc7r.us-east-1.rds.amazonaws.com\",\n",
    "        port=3306,\n",
    "        database=\"data\" #se habilita cuando se cree una base de datos, para conectarse con la instancia se deshabilita\n",
    "\n",
    "    )\n",
    "\n",
    "except mariadb.Error as e:\n",
    "    print(f\"Error connecting to MariaDB Platform: {e}\")\n",
    "    sys.exit(1)\n",
    "\n",
    "cur = conn.cursor()\n",
    "\n",
    "query='''\n",
    "CREATE TABLE t2 (\n",
    "    timestamp TIMESTAMP,\n",
    "    d1 SMALLINT, d2 SMALLINT,\n",
    "    d3 SMALLINT, d4 SMALLINT,\n",
    "    d5 SMALLINT, d6 SMALLINT,\n",
    "    d7 SMALLINT, d8 SMALLINT,\n",
    "    d9 SMALLINT, d10 SMALLINT\n",
    ");\n",
    "'''\n",
    "cur.execute(query)\n",
    "conn.commit()\n",
    "conn.close()\n"
   ]
  },
  {
   "cell_type": "markdown",
   "metadata": {},
   "source": [
    "## Insertar datos en t2"
   ]
  },
  {
   "cell_type": "code",
   "execution_count": null,
   "metadata": {},
   "outputs": [],
   "source": [
    "cur.execute(\n",
    "    \"INSERT INTO t1 (d1) VALUES (100000);\"\n",
    "    )\n",
    "conn.commit()"
   ]
  },
  {
   "cell_type": "code",
   "execution_count": 83,
   "metadata": {},
   "outputs": [
    {
     "data": {
      "text/plain": [
       "datetime.datetime(2022, 7, 29, 11, 24, 17, 287289)"
      ]
     },
     "execution_count": 83,
     "metadata": {},
     "output_type": "execute_result"
    }
   ],
   "source": [
    "time_stamp=datetime.fromtimestamp(datetime.timestamp(datetime.now()))\n",
    "time_stamp"
   ]
  },
  {
   "cell_type": "code",
   "execution_count": 84,
   "metadata": {},
   "outputs": [
    {
     "name": "stdout",
     "output_type": "stream",
     "text": [
      "2022-07-29 11:24:17.287289\n"
     ]
    }
   ],
   "source": [
    "print(time_stamp)"
   ]
  },
  {
   "cell_type": "code",
   "execution_count": 85,
   "metadata": {},
   "outputs": [],
   "source": [
    "row=[time_stamp, 100, 200, 300, 400, 500, 600, 700, 800, 900, 1000]"
   ]
  },
  {
   "cell_type": "code",
   "execution_count": 87,
   "metadata": {},
   "outputs": [
    {
     "data": {
      "text/plain": [
       "(datetime.datetime(2022, 7, 29, 11, 24, 17, 287289),\n",
       " 100,\n",
       " 200,\n",
       " 300,\n",
       " 400,\n",
       " 500,\n",
       " 600,\n",
       " 700,\n",
       " 800,\n",
       " 900,\n",
       " 1000)"
      ]
     },
     "execution_count": 87,
     "metadata": {},
     "output_type": "execute_result"
    }
   ],
   "source": [
    "tuple(row)"
   ]
  },
  {
   "cell_type": "code",
   "execution_count": 88,
   "metadata": {},
   "outputs": [
    {
     "data": {
      "text/plain": [
       "datetime.datetime"
      ]
     },
     "execution_count": 88,
     "metadata": {},
     "output_type": "execute_result"
    }
   ],
   "source": [
    "type(time_stamp)"
   ]
  },
  {
   "cell_type": "code",
   "execution_count": 72,
   "metadata": {},
   "outputs": [],
   "source": [
    "try:\n",
    "    conn = mariadb.connect(\n",
    "        user=\"elicogrp\",\n",
    "        password=\"Elico2022\",\n",
    "        host=\"datosdummies.crtpfqqqsc7r.us-east-1.rds.amazonaws.com\",\n",
    "        port=3306,\n",
    "        database=\"data\" #se habilita cuando se cree una base de datos, para conectarse con la instancia se deshabilita\n",
    "\n",
    "    )\n",
    "\n",
    "except mariadb.Error as e:\n",
    "    print(f\"Error connecting to MariaDB Platform: {e}\")\n",
    "    sys.exit(1)\n",
    "\n",
    "cur = conn.cursor()\n",
    "\n",
    "#time_stamp=datetime.timestamp(datetime.now())\n",
    "\n",
    "query='''\n",
    "INSERT INTO t2 (timestamp, d1, d2, d3, d4, d5, d6, d7, d8, d9, d10) VALUES (\n",
    "    '2022-07-29 10:30:01.950459', 10, 20, 30, 40, 50, 60, 70, 80, 90, 100\n",
    ");\n",
    "'''\n",
    "cur.execute(query)\n",
    "conn.commit()\n",
    "conn.close()"
   ]
  },
  {
   "cell_type": "code",
   "execution_count": 101,
   "metadata": {},
   "outputs": [],
   "source": [
    "try:\n",
    "    conn = mariadb.connect(\n",
    "        user=\"elicogrp\",\n",
    "        password=\"Elico2022\",\n",
    "        host=\"datosdummies.crtpfqqqsc7r.us-east-1.rds.amazonaws.com\",\n",
    "        port=3306,\n",
    "        database=\"data\" #se habilita cuando se cree una base de datos, para conectarse con la instancia se deshabilita\n",
    "\n",
    "    )\n",
    "\n",
    "except mariadb.Error as e:\n",
    "    print(f\"Error connecting to MariaDB Platform: {e}\")\n",
    "    sys.exit(1)\n",
    "\n",
    "cur = conn.cursor()\n",
    "\n",
    "#time_stamp=datetime.timestamp(datetime.now())\n",
    "time_stamp=datetime.fromtimestamp(datetime.timestamp(datetime.now()))\n",
    "row=tuple([time_stamp, 100, 200, 300, 400, 500, 600, 700, 800, 900, 1000])\n",
    "cantidad=','.join('?'*11)\n",
    "query=f'''\n",
    "INSERT INTO t2 VALUES (\n",
    "    {cantidad}\n",
    ");\n",
    "'''\n",
    "cur.execute(query, row)\n",
    "conn.commit()\n",
    "conn.close()"
   ]
  },
  {
   "cell_type": "code",
   "execution_count": 94,
   "metadata": {},
   "outputs": [
    {
     "data": {
      "text/plain": [
       "'j,j,j,j,j'"
      ]
     },
     "execution_count": 94,
     "metadata": {},
     "output_type": "execute_result"
    }
   ],
   "source": [
    "','.join('j'*5)"
   ]
  },
  {
   "cell_type": "code",
   "execution_count": 99,
   "metadata": {},
   "outputs": [],
   "source": [
    "try:\n",
    "    conn = mariadb.connect(\n",
    "        user=\"elicogrp\",\n",
    "        password=\"Elico2022\",\n",
    "        host=\"datosdummies.crtpfqqqsc7r.us-east-1.rds.amazonaws.com\",\n",
    "        port=3306,\n",
    "        database=\"data\" #se habilita cuando se cree una base de datos, para conectarse con la instancia se deshabilita\n",
    "\n",
    "    )\n",
    "\n",
    "except mariadb.Error as e:\n",
    "    print(f\"Error connecting to MariaDB Platform: {e}\")\n",
    "    sys.exit(1)\n",
    "\n",
    "cur = conn.cursor()\n",
    "\n",
    "cur.execute(\"DELETE FROM t2;\")\n",
    "\n",
    "\n",
    "conn.commit()\n",
    "conn.close()"
   ]
  },
  {
   "cell_type": "code",
   "execution_count": 102,
   "metadata": {},
   "outputs": [
    {
     "name": "stdout",
     "output_type": "stream",
     "text": [
      "(datetime.datetime(2022, 7, 29, 11, 55, 25), 100, 200, 300, 400, 500, 600, 700, 800, 900, 1000)\n"
     ]
    }
   ],
   "source": [
    "try:\n",
    "    conn = mariadb.connect(\n",
    "        user=\"elicogrp\",\n",
    "        password=\"Elico2022\",\n",
    "        host=\"datosdummies.crtpfqqqsc7r.us-east-1.rds.amazonaws.com\",\n",
    "        port=3306,\n",
    "        database=\"data\" #se habilita cuando se cree una base de datos, para conectarse con la instancia se deshabilita\n",
    "\n",
    "    )\n",
    "\n",
    "except mariadb.Error as e:\n",
    "    print(f\"Error connecting to MariaDB Platform: {e}\")\n",
    "    sys.exit(1)\n",
    "\n",
    "cur = conn.cursor()\n",
    "\n",
    "cur.execute(\"SELECT * FROM t2;\")\n",
    "for a in cur:\n",
    "    print(a)\n",
    "\n",
    "conn.commit()\n",
    "conn.close()"
   ]
  },
  {
   "cell_type": "markdown",
   "metadata": {},
   "source": [
    "## Cierre de conexión"
   ]
  },
  {
   "cell_type": "code",
   "execution_count": null,
   "metadata": {},
   "outputs": [],
   "source": [
    "conn.close()"
   ]
  },
  {
   "cell_type": "code",
   "execution_count": 32,
   "metadata": {},
   "outputs": [],
   "source": [
    "a=20"
   ]
  },
  {
   "cell_type": "code",
   "execution_count": 42,
   "metadata": {},
   "outputs": [],
   "source": [
    "cur.execute(f'INSERT INTO t1 (d1) VALUES ({a})')\n",
    "conn.commit()"
   ]
  },
  {
   "cell_type": "code",
   "execution_count": 43,
   "metadata": {},
   "outputs": [],
   "source": [
    "cur.execute(\"SELECT * FROM t1;\")\n",
    "#oneresult = cur.fetchone()\n",
    "results = cur.fetchall()"
   ]
  },
  {
   "cell_type": "code",
   "execution_count": 44,
   "metadata": {},
   "outputs": [
    {
     "data": {
      "text/plain": [
       "[(5000,),\n",
       " (5000,),\n",
       " (3000,),\n",
       " (2000,),\n",
       " (13720,),\n",
       " (100,),\n",
       " (100000,),\n",
       " (100000,),\n",
       " (100000,),\n",
       " (100000,),\n",
       " (100000,),\n",
       " (20,),\n",
       " (20,),\n",
       " (20,),\n",
       " (20,)]"
      ]
     },
     "execution_count": 44,
     "metadata": {},
     "output_type": "execute_result"
    }
   ],
   "source": [
    "results"
   ]
  },
  {
   "cell_type": "markdown",
   "metadata": {},
   "source": [
    "results"
   ]
  }
 ],
 "metadata": {
  "kernelspec": {
   "display_name": "Python 3.10.5 64-bit",
   "language": "python",
   "name": "python3"
  },
  "language_info": {
   "codemirror_mode": {
    "name": "ipython",
    "version": 3
   },
   "file_extension": ".py",
   "mimetype": "text/x-python",
   "name": "python",
   "nbconvert_exporter": "python",
   "pygments_lexer": "ipython3",
   "version": "3.10.5"
  },
  "orig_nbformat": 4,
  "vscode": {
   "interpreter": {
    "hash": "df95319d8ce4e1d89f5365ae10992bc1f65da593082b1d264e8f529830ec2f02"
   }
  }
 },
 "nbformat": 4,
 "nbformat_minor": 2
}
